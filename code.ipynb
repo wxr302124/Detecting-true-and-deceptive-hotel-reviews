{
 "cells": [
  {
   "cell_type": "markdown",
   "metadata": {},
   "source": [
    "## Detecting True and Deceptive Hotel Review"
   ]
  },
  {
   "cell_type": "markdown",
   "metadata": {},
   "source": [
    "The Deceptive opinion spam dataset is a corpus consisting of truthful and deceptive hotel reviews of 20 Chicago hotels. \n",
    "\n",
    "The corpus contains:\n",
    "\n",
    "    400 truthful, positive reviews from TripAdvisor\n",
    "    400 deceptive positive reviews from Mechanical Turk\n",
    "    400 truthful, negative reviews from Expedia, Hotels.com, Orbitz, Priceline, TripAdvisor, and Yelp\n",
    "    400 deceptive negative reviews from Mechanical Turk\n"
   ]
  },
  {
   "cell_type": "code",
   "execution_count": 38,
   "metadata": {},
   "outputs": [],
   "source": [
    "import os\n",
    "import pandas as pd\n",
    "import numpy as np\n",
    "import pickle\n",
    "import matplotlib.pyplot as plt\n",
    "from textblob import TextBlob\n",
    "from sklearn import svm\n",
    "import seaborn as sns\n",
    "from sklearn.feature_extraction.text import TfidfVectorizer\n",
    "from nltk.corpus import stopwords\n",
    "from sklearn.grid_search import GridSearchCV\n",
    "import regex as re\n",
    "from sklearn.metrics import confusion_matrix,accuracy_score,classification_report\n",
    "from sklearn.cross_validation import train_test_split\n",
    "import fnmatch\n",
    "from sklearn.svm import SVC,LinearSVC\n",
    "from nltk import pos_tag,pos_tag_sents"
   ]
  },
  {
   "cell_type": "markdown",
   "metadata": {},
   "source": [
    "Firstly, we extract the labels of the corpus into a CSV format."
   ]
  },
  {
   "cell_type": "code",
   "execution_count": 39,
   "metadata": {
    "collapsed": true
   },
   "outputs": [],
   "source": [
    "path=\"C:/Users/David/Documents/reservation/checkk/op_spam_v1.4\"\n",
    "\n",
    "label=[]\n",
    "config_files=[os.path.join(subdir,f)\n",
    "\n",
    "for subdir,dirs,files in os.walk(path)\n",
    "    for f in fnmatch.filter(files,\"*.txt\")]"
   ]
  },
  {
   "cell_type": "code",
   "execution_count": 40,
   "metadata": {
    "collapsed": true
   },
   "outputs": [],
   "source": [
    "for f in config_files:\n",
    "    des=re.search(\"(trut|deceptiv)\",f)\n",
    "    label.append(des.group())"
   ]
  },
  {
   "cell_type": "code",
   "execution_count": 41,
   "metadata": {
    "collapsed": true
   },
   "outputs": [],
   "source": [
    "corpus=pd.DataFrame(label,columns=[\"Labels\"])"
   ]
  },
  {
   "cell_type": "markdown",
   "metadata": {},
   "source": [
    "We then extract the reviews in txt format into a list and after into a CSV format."
   ]
  },
  {
   "cell_type": "code",
   "execution_count": 42,
   "metadata": {
    "collapsed": true
   },
   "outputs": [],
   "source": [
    "review=[]\n",
    "for subdir,dirs,files in os.walk(path):\n",
    "    for file in files:\n",
    "        if fnmatch.filter(files,\"*.txt\"):\n",
    "            f=open(os.path.join(subdir,file),'r')\n",
    "            f=f.read()\n",
    "            review.append(f)"
   ]
  },
  {
   "cell_type": "code",
   "execution_count": 43,
   "metadata": {
    "collapsed": true
   },
   "outputs": [],
   "source": [
    "reviews=pd.DataFrame(review,columns=[\"Review\"])"
   ]
  },
  {
   "cell_type": "markdown",
   "metadata": {},
   "source": [
    "Now,we merge the labels and the reviews into a single Dataset."
   ]
  },
  {
   "cell_type": "code",
   "execution_count": 44,
   "metadata": {
    "collapsed": true
   },
   "outputs": [],
   "source": [
    "customer_review=pd.merge(reviews,corpus,right_index=True,left_index=True)\n",
    "customer_review.Review=customer_review.Review.map(lambda x:x.lower())"
   ]
  },
  {
   "cell_type": "markdown",
   "metadata": {},
   "source": [
    "Let's see how the Hotel customer Review dataset looks like now."
   ]
  },
  {
   "cell_type": "code",
   "execution_count": 45,
   "metadata": {},
   "outputs": [
    {
     "data": {
      "text/html": [
       "<div>\n",
       "<style>\n",
       "    .dataframe thead tr:only-child th {\n",
       "        text-align: right;\n",
       "    }\n",
       "\n",
       "    .dataframe thead th {\n",
       "        text-align: left;\n",
       "    }\n",
       "\n",
       "    .dataframe tbody tr th {\n",
       "        vertical-align: top;\n",
       "    }\n",
       "</style>\n",
       "<table border=\"1\" class=\"dataframe\">\n",
       "  <thead>\n",
       "    <tr style=\"text-align: right;\">\n",
       "      <th></th>\n",
       "      <th>Review</th>\n",
       "      <th>Labels</th>\n",
       "    </tr>\n",
       "  </thead>\n",
       "  <tbody>\n",
       "    <tr>\n",
       "      <th>0</th>\n",
       "      <td>we stayed at the schicago hilton for 4 days an...</td>\n",
       "      <td>deceptiv</td>\n",
       "    </tr>\n",
       "    <tr>\n",
       "      <th>1</th>\n",
       "      <td>hotel is located 1/2 mile from the train stati...</td>\n",
       "      <td>deceptiv</td>\n",
       "    </tr>\n",
       "    <tr>\n",
       "      <th>2</th>\n",
       "      <td>i made my reservation at the hilton chicago be...</td>\n",
       "      <td>deceptiv</td>\n",
       "    </tr>\n",
       "    <tr>\n",
       "      <th>3</th>\n",
       "      <td>when most people think hilton, they think luxu...</td>\n",
       "      <td>deceptiv</td>\n",
       "    </tr>\n",
       "    <tr>\n",
       "      <th>4</th>\n",
       "      <td>my husband and i recently stayed stayed at the...</td>\n",
       "      <td>deceptiv</td>\n",
       "    </tr>\n",
       "  </tbody>\n",
       "</table>\n",
       "</div>"
      ],
      "text/plain": [
       "                                              Review    Labels\n",
       "0  we stayed at the schicago hilton for 4 days an...  deceptiv\n",
       "1  hotel is located 1/2 mile from the train stati...  deceptiv\n",
       "2  i made my reservation at the hilton chicago be...  deceptiv\n",
       "3  when most people think hilton, they think luxu...  deceptiv\n",
       "4  my husband and i recently stayed stayed at the...  deceptiv"
      ]
     },
     "execution_count": 45,
     "metadata": {},
     "output_type": "execute_result"
    }
   ],
   "source": [
    "customer_review.head()"
   ]
  },
  {
   "cell_type": "markdown",
   "metadata": {},
   "source": [
    "We are going to remove stopwords from the customer reviews.  Stopwords are not meaningful, and they do not give any \n",
    "information that can help the model learn a pattern in the data. Example of stopwords are of,at,into,is etc."
   ]
  },
  {
   "cell_type": "code",
   "execution_count": 46,
   "metadata": {
    "collapsed": true
   },
   "outputs": [],
   "source": [
    "stop_words=stopwords.words(\"English\")"
   ]
  },
  {
   "cell_type": "code",
   "execution_count": 47,
   "metadata": {
    "collapsed": true
   },
   "outputs": [],
   "source": [
    "customer_review['review_without_stopwords'] = customer_review['Review'].apply(lambda x: ' '.join([word for word in x.split() \n",
    "                                                                                                  if word not in (stop_words)]))"
   ]
  },
  {
   "cell_type": "code",
   "execution_count": 48,
   "metadata": {},
   "outputs": [
    {
     "data": {
      "text/html": [
       "<div>\n",
       "<style>\n",
       "    .dataframe thead tr:only-child th {\n",
       "        text-align: right;\n",
       "    }\n",
       "\n",
       "    .dataframe thead th {\n",
       "        text-align: left;\n",
       "    }\n",
       "\n",
       "    .dataframe tbody tr th {\n",
       "        vertical-align: top;\n",
       "    }\n",
       "</style>\n",
       "<table border=\"1\" class=\"dataframe\">\n",
       "  <thead>\n",
       "    <tr style=\"text-align: right;\">\n",
       "      <th></th>\n",
       "      <th>Review</th>\n",
       "      <th>Labels</th>\n",
       "      <th>review_without_stopwords</th>\n",
       "    </tr>\n",
       "  </thead>\n",
       "  <tbody>\n",
       "    <tr>\n",
       "      <th>0</th>\n",
       "      <td>we stayed at the schicago hilton for 4 days an...</td>\n",
       "      <td>deceptiv</td>\n",
       "      <td>stayed schicago hilton 4 days 3 nights confere...</td>\n",
       "    </tr>\n",
       "    <tr>\n",
       "      <th>1</th>\n",
       "      <td>hotel is located 1/2 mile from the train stati...</td>\n",
       "      <td>deceptiv</td>\n",
       "      <td>hotel located 1/2 mile train station quite hik...</td>\n",
       "    </tr>\n",
       "    <tr>\n",
       "      <th>2</th>\n",
       "      <td>i made my reservation at the hilton chicago be...</td>\n",
       "      <td>deceptiv</td>\n",
       "      <td>made reservation hilton chicago believing goin...</td>\n",
       "    </tr>\n",
       "    <tr>\n",
       "      <th>3</th>\n",
       "      <td>when most people think hilton, they think luxu...</td>\n",
       "      <td>deceptiv</td>\n",
       "      <td>people think hilton, think luxury. know did. w...</td>\n",
       "    </tr>\n",
       "    <tr>\n",
       "      <th>4</th>\n",
       "      <td>my husband and i recently stayed stayed at the...</td>\n",
       "      <td>deceptiv</td>\n",
       "      <td>husband recently stayed stayed hilton chicago ...</td>\n",
       "    </tr>\n",
       "  </tbody>\n",
       "</table>\n",
       "</div>"
      ],
      "text/plain": [
       "                                              Review    Labels  \\\n",
       "0  we stayed at the schicago hilton for 4 days an...  deceptiv   \n",
       "1  hotel is located 1/2 mile from the train stati...  deceptiv   \n",
       "2  i made my reservation at the hilton chicago be...  deceptiv   \n",
       "3  when most people think hilton, they think luxu...  deceptiv   \n",
       "4  my husband and i recently stayed stayed at the...  deceptiv   \n",
       "\n",
       "                            review_without_stopwords  \n",
       "0  stayed schicago hilton 4 days 3 nights confere...  \n",
       "1  hotel located 1/2 mile train station quite hik...  \n",
       "2  made reservation hilton chicago believing goin...  \n",
       "3  people think hilton, think luxury. know did. w...  \n",
       "4  husband recently stayed stayed hilton chicago ...  "
      ]
     },
     "execution_count": 48,
     "metadata": {},
     "output_type": "execute_result"
    }
   ],
   "source": [
    "customer_review.head()"
   ]
  },
  {
   "cell_type": "markdown",
   "metadata": {
    "collapsed": true
   },
   "source": [
    "#### There is a strong distribution difference between informative and imaginative writing. Informative writing consists of more nouns,adjectives,preposition,determiners and coordinating conjuction, while Imaginative writing consists of more verbs,pronouns,adverbs and pre-determiners. Deceptive opinons may contain more superlatives since deceptive opinons is often exaggerated."
   ]
  },
  {
   "cell_type": "markdown",
   "metadata": {},
   "source": [
    "#### POS TAGGING\n",
    "We are going to use textblob an api for processing textual data i.e for part of speech tagging(pos)."
   ]
  },
  {
   "cell_type": "code",
   "execution_count": 49,
   "metadata": {},
   "outputs": [
    {
     "name": "stdout",
     "output_type": "stream",
     "text": [
      "[nltk_data] Error loading punkt: <urlopen error [Errno 11001]\n",
      "[nltk_data]     getaddrinfo failed>\n",
      "[nltk_data] Error loading averaged_perceptron_tagger: <urlopen error\n",
      "[nltk_data]     [Errno 11001] getaddrinfo failed>\n"
     ]
    },
    {
     "data": {
      "text/plain": [
       "False"
      ]
     },
     "execution_count": 49,
     "metadata": {},
     "output_type": "execute_result"
    }
   ],
   "source": [
    "import nltk\n",
    "nltk.download('punkt')\n",
    "nltk.download('averaged_perceptron_tagger')"
   ]
  },
  {
   "cell_type": "code",
   "execution_count": 50,
   "metadata": {
    "collapsed": true
   },
   "outputs": [],
   "source": [
    "def postagg(review):\n",
    "    return TextBlob(review).tags\n",
    "poss=customer_review.review_without_stopwords.apply(postagg)\n",
    "poss=pd.DataFrame(poss)"
   ]
  },
  {
   "cell_type": "code",
   "execution_count": 51,
   "metadata": {
    "collapsed": true,
    "scrolled": true
   },
   "outputs": [],
   "source": [
    "poss[\"part_of_speech\"] = poss['review_without_stopwords'].map(lambda x:\" \".join([\"/\".join(x) for x in x ]) )"
   ]
  },
  {
   "cell_type": "code",
   "execution_count": 52,
   "metadata": {
    "collapsed": true
   },
   "outputs": [],
   "source": [
    "customer_review=pd.merge(customer_review,poss,right_index=True,left_index=True)"
   ]
  },
  {
   "cell_type": "markdown",
   "metadata": {},
   "source": [
    "### Splitting the Data into Trainning and Test Data & applying TF-IDF Vectorizer\n",
    "Now, we want to split the data for training and testing and afterwards apply Term frequency-inverse document frequency vectorizer,\n"
   ]
  },
  {
   "cell_type": "code",
   "execution_count": 53,
   "metadata": {
    "collapsed": true
   },
   "outputs": [],
   "source": [
    "train_review,test_review,train_label,test_label=train_test_split(customer_review.part_of_speech,\n",
    "                                                                 customer_review.Labels,\n",
    "                                                                 test_size=0.25,\n",
    "                                                                random_state=10)\n",
    "tf_vect=TfidfVectorizer(lowercase=True,use_idf=True,smooth_idf=True,sublinear_tf=False)\n",
    "X_train=tf_vect.fit_transform(train_review)\n",
    "X_test=tf_vect.transform(test_review)"
   ]
  },
  {
   "cell_type": "markdown",
   "metadata": {},
   "source": [
    "### Implementing the Model\n",
    "\n",
    "We are going to make use of Support Vector Machine and grid search to select the best hyperparameter."
   ]
  },
  {
   "cell_type": "code",
   "execution_count": 54,
   "metadata": {},
   "outputs": [
    {
     "data": {
      "text/plain": [
       "{'C': 1, 'gamma': 0.001}"
      ]
     },
     "execution_count": 54,
     "metadata": {},
     "output_type": "execute_result"
    }
   ],
   "source": [
    "def svc_param_selection(X, y, nfolds):\n",
    "    Cs = [0.001, 0.01, 0.1, 1, 10]\n",
    "    gammas = [0.001, 0.01, 0.1, 1]\n",
    "    param_grid = {'C': Cs, 'gamma' : gammas}\n",
    "    grid_search = GridSearchCV(svm.SVC(kernel='linear'), param_grid, cv=nfolds)\n",
    "    grid_search.fit(X, y)\n",
    "    return grid_search.best_params_\n",
    "svc_param_selection(X_train,train_label,6)"
   ]
  },
  {
   "cell_type": "code",
   "execution_count": 55,
   "metadata": {
    "collapsed": true
   },
   "outputs": [],
   "source": [
    "clf=svm.SVC(C=1,gamma=0.001,kernel=\"linear\")\n",
    "clf.fit(X_train,train_label)\n",
    "pred=clf.predict(X_test)"
   ]
  },
  {
   "cell_type": "code",
   "execution_count": 56,
   "metadata": {},
   "outputs": [
    {
     "name": "stdout",
     "output_type": "stream",
     "text": [
      "0.9025\n"
     ]
    }
   ],
   "source": [
    "print(accuracy_score(pred,test_label))"
   ]
  },
  {
   "cell_type": "markdown",
   "metadata": {},
   "source": [
    "#### Plotting the confusion matrix, accuracy score and the classification report to analyse the performance of the model"
   ]
  },
  {
   "cell_type": "code",
   "execution_count": 57,
   "metadata": {},
   "outputs": [
    {
     "data": {
      "image/png": "[encoded data removed]",
      "text/plain": [
       "<matplotlib.figure.Figure at 0x2225fdcdb70>"
      ]
     },
     "metadata": {},
     "output_type": "display_data"
    }
   ],
   "source": [
    "cm=confusion_matrix(pred,test_label)\n",
    "f,ax=plt.subplots(figsize=(15,8))\n",
    "sns.heatmap(cm,annot=True,ax=ax)\n",
    "ax.set_title(\"Confusion Matrix\",fontsize=15)\n",
    "plt.show()"
   ]
  },
  {
   "cell_type": "markdown",
   "metadata": {},
   "source": [
    "##### We Notice that 40 test samples were misclassified out of 400. We have True positives=170,True Negative=20,False positive=20\n",
    "##### and False Negative=190."
   ]
  },
  {
   "cell_type": "code",
   "execution_count": 58,
   "metadata": {},
   "outputs": [
    {
     "name": "stdout",
     "output_type": "stream",
     "text": [
      "             precision    recall  f1-score   support\n",
      "\n",
      "   deceptiv       0.91      0.90      0.90       201\n",
      "       trut       0.90      0.91      0.90       199\n",
      "\n",
      "avg / total       0.90      0.90      0.90       400\n",
      "\n"
     ]
    }
   ],
   "source": [
    "print(classification_report(pred,test_label))"
   ]
  },
  {
   "cell_type": "markdown",
   "metadata": {},
   "source": [
    "### Saving our Model Using Pickle\n",
    "Now, we save the model that was just trained along with the Tfidf vectorizer using the pickle library."
   ]
  },
  {
   "cell_type": "code",
   "execution_count": 59,
   "metadata": {},
   "outputs": [],
   "source": [
    "with open(\"vectorizer.pickle\",'wb') as model:\n",
    "    pickle.dump(tf_vect,model)\n",
    "with open(\"mlmodel.pickle\",'wb') as m:\n",
    "    pickle.dump(clf,m)"
   ]
  },
 
  {
   "cell_type": "code",
   "execution_count": null,
   "metadata": {
    "collapsed": true
   },
   "outputs": [],
   "source": []
  }
 ],
 "metadata": {
  "kernelspec": {
   "display_name": "Python 3",
   "language": "python",
   "name": "python3"
  },
  "language_info": {
   "codemirror_mode": {
    "name": "ipython",
    "version": 3
   },
   "file_extension": ".py",
   "mimetype": "text/x-python",
   "name": "python",
   "nbconvert_exporter": "python",
   "pygments_lexer": "ipython3",
   "version": "3.6.1"
  }
 },
 "nbformat": 4,
 "nbformat_minor": 2
}
